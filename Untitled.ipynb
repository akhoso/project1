{
 "cells": [
  {
   "cell_type": "code",
   "execution_count": 1,
   "metadata": {},
   "outputs": [],
   "source": [
    "import pandas as pd\n",
    "import numpy as np\n",
    "import scipy as sp\n"
   ]
  },
  {
   "cell_type": "code",
   "execution_count": 2,
   "metadata": {},
   "outputs": [
    {
     "data": {
      "text/plain": [
       "'/home/khoso/Desktop/filesfolderspps/project1'"
      ]
     },
     "execution_count": 2,
     "metadata": {},
     "output_type": "execute_result"
    }
   ],
   "source": [
    "pwd"
   ]
  },
  {
   "cell_type": "code",
   "execution_count": 3,
   "metadata": {},
   "outputs": [
    {
     "ename": "ValueError",
     "evalue": "Some errors were detected !\n    Line #657113 (got 2 columns instead of 6)\n    Line #1847615 (got 2 columns instead of 6)\n    Line #2324579 (got 2 columns instead of 6)\n    Line #3910384 (got 2 columns instead of 6)\n    Line #5157300 (got 2 columns instead of 6)\n    Line #5401422 (got 2 columns instead of 6)\n    Line #5512749 (got 2 columns instead of 6)\n    Line #5538494 (got 2 columns instead of 6)\n    Line #5773457 (got 2 columns instead of 6)\n    Line #5905907 (got 2 columns instead of 6)\n    Line #5934015 (got 2 columns instead of 6)\n    Line #6076198 (got 2 columns instead of 6)\n    Line #6695869 (got 2 columns instead of 6)\n    Line #7361146 (got 2 columns instead of 6)\n    Line #7942028 (got 2 columns instead of 6)\n    Line #8403785 (got 2 columns instead of 6)\n    Line #9259814 (got 2 columns instead of 6)\n    Line #9294098 (got 2 columns instead of 6)\n    Line #9297739 (got 2 columns instead of 6)\n    Line #9304473 (got 2 columns instead of 6)\n    Line #9523285 (got 2 columns instead of 6)",
     "output_type": "error",
     "traceback": [
      "\u001b[0;31m---------------------------------------------------------------------------\u001b[0m",
      "\u001b[0;31mValueError\u001b[0m                                Traceback (most recent call last)",
      "\u001b[0;32m<ipython-input-3-31542230dfc0>\u001b[0m in \u001b[0;36m<module>\u001b[0;34m\u001b[0m\n\u001b[0;32m----> 1\u001b[0;31m \u001b[0mdf\u001b[0m\u001b[0;34m=\u001b[0m\u001b[0msp\u001b[0m\u001b[0;34m.\u001b[0m\u001b[0mgenfromtxt\u001b[0m\u001b[0;34m(\u001b[0m\u001b[0;34m\"name.basics.tsv\"\u001b[0m\u001b[0;34m,\u001b[0m\u001b[0mdelimiter\u001b[0m\u001b[0;34m=\u001b[0m\u001b[0;34m\"\\t\"\u001b[0m\u001b[0;34m)\u001b[0m\u001b[0;34m\u001b[0m\u001b[0;34m\u001b[0m\u001b[0m\n\u001b[0m",
      "\u001b[0;32m~/anaconda3/envs/learn-env/lib/python3.7/site-packages/numpy/lib/npyio.py\u001b[0m in \u001b[0;36mgenfromtxt\u001b[0;34m(fname, dtype, comments, delimiter, skip_header, skip_footer, converters, missing_values, filling_values, usecols, names, excludelist, deletechars, replace_space, autostrip, case_sensitive, defaultfmt, unpack, usemask, loose, invalid_raise, max_rows, encoding)\u001b[0m\n\u001b[1;32m   2087\u001b[0m             \u001b[0;31m# Raise an exception ?\u001b[0m\u001b[0;34m\u001b[0m\u001b[0;34m\u001b[0m\u001b[0;34m\u001b[0m\u001b[0m\n\u001b[1;32m   2088\u001b[0m             \u001b[0;32mif\u001b[0m \u001b[0minvalid_raise\u001b[0m\u001b[0;34m:\u001b[0m\u001b[0;34m\u001b[0m\u001b[0;34m\u001b[0m\u001b[0m\n\u001b[0;32m-> 2089\u001b[0;31m                 \u001b[0;32mraise\u001b[0m \u001b[0mValueError\u001b[0m\u001b[0;34m(\u001b[0m\u001b[0merrmsg\u001b[0m\u001b[0;34m)\u001b[0m\u001b[0;34m\u001b[0m\u001b[0;34m\u001b[0m\u001b[0m\n\u001b[0m\u001b[1;32m   2090\u001b[0m             \u001b[0;31m# Issue a warning ?\u001b[0m\u001b[0;34m\u001b[0m\u001b[0;34m\u001b[0m\u001b[0;34m\u001b[0m\u001b[0m\n\u001b[1;32m   2091\u001b[0m             \u001b[0;32melse\u001b[0m\u001b[0;34m:\u001b[0m\u001b[0;34m\u001b[0m\u001b[0;34m\u001b[0m\u001b[0m\n",
      "\u001b[0;31mValueError\u001b[0m: Some errors were detected !\n    Line #657113 (got 2 columns instead of 6)\n    Line #1847615 (got 2 columns instead of 6)\n    Line #2324579 (got 2 columns instead of 6)\n    Line #3910384 (got 2 columns instead of 6)\n    Line #5157300 (got 2 columns instead of 6)\n    Line #5401422 (got 2 columns instead of 6)\n    Line #5512749 (got 2 columns instead of 6)\n    Line #5538494 (got 2 columns instead of 6)\n    Line #5773457 (got 2 columns instead of 6)\n    Line #5905907 (got 2 columns instead of 6)\n    Line #5934015 (got 2 columns instead of 6)\n    Line #6076198 (got 2 columns instead of 6)\n    Line #6695869 (got 2 columns instead of 6)\n    Line #7361146 (got 2 columns instead of 6)\n    Line #7942028 (got 2 columns instead of 6)\n    Line #8403785 (got 2 columns instead of 6)\n    Line #9259814 (got 2 columns instead of 6)\n    Line #9294098 (got 2 columns instead of 6)\n    Line #9297739 (got 2 columns instead of 6)\n    Line #9304473 (got 2 columns instead of 6)\n    Line #9523285 (got 2 columns instead of 6)"
     ]
    }
   ],
   "source": [
    "df=sp.genfromtxt(\"name.basics.tsv\",delimiter=\"\\t\")"
   ]
  },
  {
   "cell_type": "code",
   "execution_count": null,
   "metadata": {},
   "outputs": [],
   "source": [
    "df=pd.read_csv(\"name.basics.tsv\",sep=\"\\t\")"
   ]
  },
  {
   "cell_type": "code",
   "execution_count": null,
   "metadata": {},
   "outputs": [],
   "source": []
  }
 ],
 "metadata": {
  "kernelspec": {
   "display_name": "Python 3",
   "language": "python",
   "name": "python3"
  },
  "language_info": {
   "codemirror_mode": {
    "name": "ipython",
    "version": 3
   },
   "file_extension": ".py",
   "mimetype": "text/x-python",
   "name": "python",
   "nbconvert_exporter": "python",
   "pygments_lexer": "ipython3",
   "version": "3.7.4"
  }
 },
 "nbformat": 4,
 "nbformat_minor": 2
}
